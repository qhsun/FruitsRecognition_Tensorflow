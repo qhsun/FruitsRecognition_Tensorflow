{
 "cells": [
  {
   "cell_type": "code",
   "execution_count": 16,
   "metadata": {},
   "outputs": [],
   "source": [
    "import pandas as pd\n",
    "import numpy as np\n",
    "import os\n",
    "from glob import glob\n",
    "import random\n",
    "import matplotlib.pylab as plt \n",
    "\n",
    "import matplotlib.pyplot as plt\n",
    "import seaborn as sns\n",
    "\n",
    "from sklearn.model_selection import train_test_split\n",
    "\n",
    "import tensorflow as tf\n",
    "from tensorflow.keras.preprocessing.image import ImageDataGenerator\n",
    "from tensorflow import keras"
   ]
  },
  {
   "cell_type": "markdown",
   "metadata": {},
   "source": [
    "### Read Data"
   ]
  },
  {
   "cell_type": "code",
   "execution_count": 13,
   "metadata": {},
   "outputs": [
    {
     "name": "stdout",
     "output_type": "stream",
     "text": [
      "CPU times: user 99.5 ms, sys: 28.4 ms, total: 128 ms\n",
      "Wall time: 141 ms\n"
     ]
    }
   ],
   "source": [
    "%%time\n",
    "paths=[]\n",
    "for name in glob('medium_archive/*',recursive=True):\n",
    "    paths.append(name)  \n",
    "    \n",
    "    \n",
    "img_paths=[]\n",
    "extra_paths=[]\n",
    "for i in paths:\n",
    "    for name in glob(i+'/*'):\n",
    "        if name.endswith('.png'):\n",
    "            a=name.split('/')\n",
    "            img_paths.append([name,a[-2]])\n",
    "        else:\n",
    "            extra_paths.append(name) \n",
    "            \n",
    "\n",
    "extra_imgs=[]\n",
    "for i in extra_paths:\n",
    "    if i=='medium_archive/Apple/Total Number of Apples':\n",
    "        for name in glob(i+'/*'):\n",
    "            if name.endswith('.png'):\n",
    "                extra_imgs.append([name,'Apple'])\n",
    "    elif i=='medium_archive/Guava/guava total final':\n",
    "        for name in glob(i+'/*'):\n",
    "            if name.endswith('.png'):\n",
    "                extra_imgs.append([name,'Guava'])\n",
    "    elif i=='medium_archive/Kiwi/Total Number of Kiwi fruit':\n",
    "        for name in glob(i+'/*'):\n",
    "            if name.endswith('.png'):\n",
    "                extra_imgs.append([name,'Kiwi']) \n",
    "                \n",
    "\n",
    "img_final=img_paths+extra_imgs \n",
    "\n",
    "labels=[]\n",
    "for i in range(len(img_final)):\n",
    "    labels.append(img_final[i][1])\n",
    "    img_final[i]=img_final[i][0] \n",
    "    \n",
    "img_path = pd.Series(img_final).astype(str)  \n",
    "\n",
    "labels=pd.Series(labels)\n",
    "data = pd.concat([img_path,labels],axis=1)"
   ]
  },
  {
   "cell_type": "code",
   "execution_count": 5,
   "metadata": {},
   "outputs": [
    {
     "data": {
      "text/html": [
       "<div>\n",
       "<style scoped>\n",
       "    .dataframe tbody tr th:only-of-type {\n",
       "        vertical-align: middle;\n",
       "    }\n",
       "\n",
       "    .dataframe tbody tr th {\n",
       "        vertical-align: top;\n",
       "    }\n",
       "\n",
       "    .dataframe thead th {\n",
       "        text-align: right;\n",
       "    }\n",
       "</style>\n",
       "<table border=\"1\" class=\"dataframe\">\n",
       "  <thead>\n",
       "    <tr style=\"text-align: right;\">\n",
       "      <th></th>\n",
       "      <th>0</th>\n",
       "      <th>1</th>\n",
       "    </tr>\n",
       "  </thead>\n",
       "  <tbody>\n",
       "    <tr>\n",
       "      <th>0</th>\n",
       "      <td>medium_archive/Pitaya/Pitaya00296.png</td>\n",
       "      <td>Pitaya</td>\n",
       "    </tr>\n",
       "    <tr>\n",
       "      <th>1</th>\n",
       "      <td>medium_archive/Pitaya/Pitaya00282.png</td>\n",
       "      <td>Pitaya</td>\n",
       "    </tr>\n",
       "    <tr>\n",
       "      <th>2</th>\n",
       "      <td>medium_archive/Pitaya/Pitaya00269.png</td>\n",
       "      <td>Pitaya</td>\n",
       "    </tr>\n",
       "    <tr>\n",
       "      <th>3</th>\n",
       "      <td>medium_archive/Pitaya/Pitaya00255.png</td>\n",
       "      <td>Pitaya</td>\n",
       "    </tr>\n",
       "    <tr>\n",
       "      <th>4</th>\n",
       "      <td>medium_archive/Pitaya/Pitaya00533.png</td>\n",
       "      <td>Pitaya</td>\n",
       "    </tr>\n",
       "    <tr>\n",
       "      <th>...</th>\n",
       "      <td>...</td>\n",
       "      <td>...</td>\n",
       "    </tr>\n",
       "    <tr>\n",
       "      <th>17971</th>\n",
       "      <td>medium_archive/Guava/guava total final/Guava06...</td>\n",
       "      <td>Guava</td>\n",
       "    </tr>\n",
       "    <tr>\n",
       "      <th>17972</th>\n",
       "      <td>medium_archive/Guava/guava total final/Guava08...</td>\n",
       "      <td>Guava</td>\n",
       "    </tr>\n",
       "    <tr>\n",
       "      <th>17973</th>\n",
       "      <td>medium_archive/Guava/guava total final/Guava06...</td>\n",
       "      <td>Guava</td>\n",
       "    </tr>\n",
       "    <tr>\n",
       "      <th>17974</th>\n",
       "      <td>medium_archive/Guava/guava total final/Guava08...</td>\n",
       "      <td>Guava</td>\n",
       "    </tr>\n",
       "    <tr>\n",
       "      <th>17975</th>\n",
       "      <td>medium_archive/Guava/guava total final/Guava08...</td>\n",
       "      <td>Guava</td>\n",
       "    </tr>\n",
       "  </tbody>\n",
       "</table>\n",
       "<p>17976 rows × 2 columns</p>\n",
       "</div>"
      ],
      "text/plain": [
       "                                                       0       1\n",
       "0                  medium_archive/Pitaya/Pitaya00296.png  Pitaya\n",
       "1                  medium_archive/Pitaya/Pitaya00282.png  Pitaya\n",
       "2                  medium_archive/Pitaya/Pitaya00269.png  Pitaya\n",
       "3                  medium_archive/Pitaya/Pitaya00255.png  Pitaya\n",
       "4                  medium_archive/Pitaya/Pitaya00533.png  Pitaya\n",
       "...                                                  ...     ...\n",
       "17971  medium_archive/Guava/guava total final/Guava06...   Guava\n",
       "17972  medium_archive/Guava/guava total final/Guava08...   Guava\n",
       "17973  medium_archive/Guava/guava total final/Guava06...   Guava\n",
       "17974  medium_archive/Guava/guava total final/Guava08...   Guava\n",
       "17975  medium_archive/Guava/guava total final/Guava08...   Guava\n",
       "\n",
       "[17976 rows x 2 columns]"
      ]
     },
     "execution_count": 5,
     "metadata": {},
     "output_type": "execute_result"
    }
   ],
   "source": [
    "data"
   ]
  },
  {
   "cell_type": "code",
   "execution_count": 7,
   "metadata": {},
   "outputs": [
    {
     "data": {
      "text/plain": [
       "<matplotlib.axes._subplots.AxesSubplot at 0x7fad5212f3a0>"
      ]
     },
     "execution_count": 7,
     "metadata": {},
     "output_type": "execute_result"
    },
    {
     "data": {
      "image/png": "[encoded data removed]",
      "text/plain": [
       "<Figure size 1080x360 with 1 Axes>"
      ]
     },
     "metadata": {
      "needs_background": "light"
     },
     "output_type": "display_data"
    }
   ],
   "source": [
    "plt.figure(figsize=(15,5))\n",
    "sns.countplot(x=data[1])"
   ]
  },
  {
   "cell_type": "code",
   "execution_count": 10,
   "metadata": {},
   "outputs": [
    {
     "data": {
      "text/plain": [
       "((14380, 2), (3596, 2))"
      ]
     },
     "execution_count": 10,
     "metadata": {},
     "output_type": "execute_result"
    }
   ],
   "source": [
    "train_set.shape,test_set.shape"
   ]
  },
  {
   "cell_type": "code",
   "execution_count": 12,
   "metadata": {},
   "outputs": [
    {
     "data": {
      "text/html": [
       "<div>\n",
       "<style scoped>\n",
       "    .dataframe tbody tr th:only-of-type {\n",
       "        vertical-align: middle;\n",
       "    }\n",
       "\n",
       "    .dataframe tbody tr th {\n",
       "        vertical-align: top;\n",
       "    }\n",
       "\n",
       "    .dataframe thead th {\n",
       "        text-align: right;\n",
       "    }\n",
       "</style>\n",
       "<table border=\"1\" class=\"dataframe\">\n",
       "  <thead>\n",
       "    <tr style=\"text-align: right;\">\n",
       "      <th></th>\n",
       "      <th>0</th>\n",
       "      <th>1</th>\n",
       "    </tr>\n",
       "  </thead>\n",
       "  <tbody>\n",
       "    <tr>\n",
       "      <th>count</th>\n",
       "      <td>17976</td>\n",
       "      <td>17976</td>\n",
       "    </tr>\n",
       "    <tr>\n",
       "      <th>unique</th>\n",
       "      <td>17976</td>\n",
       "      <td>15</td>\n",
       "    </tr>\n",
       "    <tr>\n",
       "      <th>top</th>\n",
       "      <td>medium_archive/Apple/Total Number of Apples/Apple 01011.png</td>\n",
       "      <td>Mango</td>\n",
       "    </tr>\n",
       "    <tr>\n",
       "      <th>freq</th>\n",
       "      <td>1</td>\n",
       "      <td>1750</td>\n",
       "    </tr>\n",
       "  </tbody>\n",
       "</table>\n",
       "</div>"
      ],
      "text/plain": [
       "                                                                  0      1\n",
       "count                                                         17976  17976\n",
       "unique                                                        17976     15\n",
       "top     medium_archive/Apple/Total Number of Apples/Apple 01011.png  Mango\n",
       "freq                                                              1   1750"
      ]
     },
     "execution_count": 12,
     "metadata": {},
     "output_type": "execute_result"
    }
   ],
   "source": [
    "pd.set_option('display.max_colwidth', None)\n",
    "data.describe()"
   ]
  },
  {
   "cell_type": "markdown",
   "metadata": {},
   "source": [
    "### Construct training, validation, and test data set"
   ]
  },
  {
   "cell_type": "code",
   "execution_count": 23,
   "metadata": {},
   "outputs": [
    {
     "name": "stdout",
     "output_type": "stream",
     "text": [
      "Found 12942 validated image filenames belonging to 15 classes.\n",
      "Found 1438 validated image filenames belonging to 15 classes.\n",
      "Found 3596 validated image filenames belonging to 15 classes.\n",
      "CPU times: user 364 ms, sys: 163 ms, total: 528 ms\n",
      "Wall time: 692 ms\n"
     ]
    }
   ],
   "source": [
    "%%time\n",
    "train_set , test_set = train_test_split(data,test_size=0.2,random_state=17)\n",
    "train_gen = ImageDataGenerator(validation_split=0.1)\n",
    "test_gen = ImageDataGenerator()\n",
    "\n",
    "train_data = train_gen.flow_from_dataframe(\n",
    "    dataframe = train_set,\n",
    "    x_col = 0,\n",
    "    y_col = 1,\n",
    "    target_size = (227,227),\n",
    "    color_mode = 'rgb',\n",
    "    class_mode = 'categorical',\n",
    "    shuffle = True,\n",
    "    subset = 'training'\n",
    ")\n",
    "\n",
    "val_data = train_gen.flow_from_dataframe(\n",
    "    dataframe = train_set,\n",
    "    x_col = 0,\n",
    "    y_col = 1,\n",
    "    target_size = (227,227),\n",
    "    color_mode = 'rgb',\n",
    "    class_mode = 'categorical',\n",
    "    shuffle = False,\n",
    "    subset = 'validation'\n",
    ")\n",
    "\n",
    "test_data = test_gen.flow_from_dataframe(\n",
    "    dataframe = test_set,\n",
    "    x_col = 0,\n",
    "    y_col = 1,\n",
    "    target_size = (227,227),\n",
    "    color_mode = 'rgb',\n",
    "    class_mode = 'categorical',\n",
    "    shuffle = False\n",
    ")"
   ]
  },
  {
   "cell_type": "markdown",
   "metadata": {},
   "source": [
    "### Build Sequential models"
   ]
  },
  {
   "cell_type": "code",
   "execution_count": 14,
   "metadata": {},
   "outputs": [
    {
     "name": "stdout",
     "output_type": "stream",
     "text": [
      "Model: \"sequential\"\n",
      "_________________________________________________________________\n",
      " Layer (type)                Output Shape              Param #   \n",
      "=================================================================\n",
      " conv2d (Conv2D)             (None, 55, 55, 96)        34944     \n",
      "                                                                 \n",
      " batch_normalization (BatchN  (None, 55, 55, 96)       384       \n",
      " ormalization)                                                   \n",
      "                                                                 \n",
      " max_pooling2d (MaxPooling2D  (None, 27, 27, 96)       0         \n",
      " )                                                               \n",
      "                                                                 \n",
      " conv2d_1 (Conv2D)           (None, 27, 27, 256)       614656    \n",
      "                                                                 \n",
      " batch_normalization_1 (Batc  (None, 27, 27, 256)      1024      \n",
      " hNormalization)                                                 \n",
      "                                                                 \n",
      " max_pooling2d_1 (MaxPooling  (None, 13, 13, 256)      0         \n",
      " 2D)                                                             \n",
      "                                                                 \n",
      " conv2d_2 (Conv2D)           (None, 13, 13, 384)       885120    \n",
      "                                                                 \n",
      " batch_normalization_2 (Batc  (None, 13, 13, 384)      1536      \n",
      " hNormalization)                                                 \n",
      "                                                                 \n",
      " conv2d_3 (Conv2D)           (None, 13, 13, 384)       1327488   \n",
      "                                                                 \n",
      " batch_normalization_3 (Batc  (None, 13, 13, 384)      1536      \n",
      " hNormalization)                                                 \n",
      "                                                                 \n",
      " conv2d_4 (Conv2D)           (None, 13, 13, 256)       884992    \n",
      "                                                                 \n",
      " batch_normalization_4 (Batc  (None, 13, 13, 256)      1024      \n",
      " hNormalization)                                                 \n",
      "                                                                 \n",
      " max_pooling2d_2 (MaxPooling  (None, 6, 6, 256)        0         \n",
      " 2D)                                                             \n",
      "                                                                 \n",
      " flatten (Flatten)           (None, 9216)              0         \n",
      "                                                                 \n",
      " dense (Dense)               (None, 4096)              37752832  \n",
      "                                                                 \n",
      " dropout (Dropout)           (None, 4096)              0         \n",
      "                                                                 \n",
      " dense_1 (Dense)             (None, 4096)              16781312  \n",
      "                                                                 \n",
      " dropout_1 (Dropout)         (None, 4096)              0         \n",
      "                                                                 \n",
      " dense_2 (Dense)             (None, 15)                61455     \n",
      "                                                                 \n",
      "=================================================================\n",
      "Total params: 58,348,303\n",
      "Trainable params: 58,345,551\n",
      "Non-trainable params: 2,752\n",
      "_________________________________________________________________\n",
      "CPU times: user 797 ms, sys: 1.08 s, total: 1.88 s\n",
      "Wall time: 530 ms\n"
     ]
    },
    {
     "name": "stderr",
     "output_type": "stream",
     "text": [
      "/Users/xiaoyulin/opt/anaconda3/lib/python3.8/site-packages/keras/optimizer_v2/adam.py:105: UserWarning: The `lr` argument is deprecated, use `learning_rate` instead.\n",
      "  super(Adam, self).__init__(name, **kwargs)\n"
     ]
    }
   ],
   "source": [
    "%%time\n",
    "# We will be using Sequential() for image classification here.\n",
    "# The Sequential model consists of three convolution blocks (tf.keras.layers.Conv2D) \n",
    "# with a max pooling layer (tf.keras.layers.MaxPooling2D) in each of them. \n",
    "# There's a fully-connected layer (tf.keras.layers.Dense) with 256 units on top of it \n",
    "# that is activated by a ReLU activation function ('relu'). \n",
    "model = keras.models.Sequential([\n",
    "    keras.layers.Conv2D(filters=96, kernel_size=(11,11), strides=(4,4), activation='relu', input_shape=(227,227,3)),\n",
    "    keras.layers.BatchNormalization(),\n",
    "    keras.layers.MaxPool2D(pool_size=(3,3), strides=(2,2)), \n",
    "    keras.layers.Conv2D(filters=256, kernel_size=(5,5), strides=(1,1), activation='relu', padding=\"same\"),\n",
    "    keras.layers.BatchNormalization(),\n",
    "    keras.layers.MaxPool2D(pool_size=(3,3), strides=(2,2)),\n",
    "    keras.layers.Conv2D(filters=384, kernel_size=(3,3), strides=(1,1), activation='relu', padding=\"same\"),\n",
    "    keras.layers.BatchNormalization(),\n",
    "    keras.layers.Conv2D(filters=384, kernel_size=(3,3), strides=(1,1), activation='relu', padding=\"same\"),\n",
    "    keras.layers.BatchNormalization(),\n",
    "    keras.layers.Conv2D(filters=256, kernel_size=(3,3), strides=(1,1), activation='relu', padding=\"same\"),\n",
    "    keras.layers.BatchNormalization(),\n",
    "    keras.layers.MaxPool2D(pool_size=(3,3), strides=(2,2)),\n",
    "    keras.layers.Flatten(),\n",
    "    keras.layers.Dense(4096, activation='relu'),\n",
    "    keras.layers.Dropout(0.5),\n",
    "    keras.layers.Dense(4096, activation='relu'),\n",
    "    keras.layers.Dropout(0.5),\n",
    "    keras.layers.Dense(15, activation='softmax')\n",
    "])\n",
    "model.compile(\n",
    "    optimizer=tf.optimizers.Adam(lr=0.000001),\n",
    "    loss='categorical_crossentropy',\n",
    "    metrics=['accuracy','Recall']\n",
    ")\n",
    "\n",
    "model.summary()"
   ]
  },
  {
   "cell_type": "code",
   "execution_count": 15,
   "metadata": {},
   "outputs": [
    {
     "name": "stdout",
     "output_type": "stream",
     "text": [
      "Epoch 1/40\n",
      "405/405 [==============================] - 454s 1s/step - loss: 4.4190 - accuracy: 0.1157 - recall: 0.0658 - val_loss: 2.0986 - val_accuracy: 0.3512 - val_recall: 0.0828\n",
      "Epoch 2/40\n",
      "405/405 [==============================] - 445s 1s/step - loss: 3.2996 - accuracy: 0.2031 - recall: 0.1193 - val_loss: 1.7521 - val_accuracy: 0.4680 - val_recall: 0.1898\n",
      "Epoch 3/40\n",
      "405/405 [==============================] - 449s 1s/step - loss: 2.6968 - accuracy: 0.2874 - recall: 0.1750 - val_loss: 1.5270 - val_accuracy: 0.5466 - val_recall: 0.2789\n",
      "Epoch 4/40\n",
      "405/405 [==============================] - 446s 1s/step - loss: 2.2916 - accuracy: 0.3549 - recall: 0.2262 - val_loss: 1.3666 - val_accuracy: 0.6085 - val_recall: 0.3588\n",
      "Epoch 5/40\n",
      "405/405 [==============================] - 450s 1s/step - loss: 2.0018 - accuracy: 0.4157 - recall: 0.2760 - val_loss: 1.2181 - val_accuracy: 0.6516 - val_recall: 0.4172\n",
      "Epoch 6/40\n",
      "405/405 [==============================] - 450s 1s/step - loss: 1.7736 - accuracy: 0.4713 - recall: 0.3256 - val_loss: 1.0885 - val_accuracy: 0.6885 - val_recall: 0.4701\n",
      "Epoch 7/40\n",
      "405/405 [==============================] - 449s 1s/step - loss: 1.5859 - accuracy: 0.5234 - recall: 0.3826 - val_loss: 0.9773 - val_accuracy: 0.7149 - val_recall: 0.5243\n",
      "Epoch 8/40\n",
      "405/405 [==============================] - 445s 1s/step - loss: 1.4194 - accuracy: 0.5693 - recall: 0.4352 - val_loss: 0.8922 - val_accuracy: 0.7330 - val_recall: 0.5765\n",
      "Epoch 9/40\n",
      "405/405 [==============================] - 450s 1s/step - loss: 1.2896 - accuracy: 0.5967 - recall: 0.4750 - val_loss: 0.8046 - val_accuracy: 0.7538 - val_recall: 0.6154\n",
      "Epoch 10/40\n",
      "405/405 [==============================] - 453s 1s/step - loss: 1.1613 - accuracy: 0.6372 - recall: 0.5192 - val_loss: 0.7442 - val_accuracy: 0.7691 - val_recall: 0.6433\n",
      "Epoch 11/40\n",
      "405/405 [==============================] - 453s 1s/step - loss: 1.0657 - accuracy: 0.6628 - recall: 0.5492 - val_loss: 0.6859 - val_accuracy: 0.7837 - val_recall: 0.6704\n",
      "Epoch 12/40\n",
      "405/405 [==============================] - 450s 1s/step - loss: 0.9719 - accuracy: 0.6928 - recall: 0.5888 - val_loss: 0.6337 - val_accuracy: 0.7997 - val_recall: 0.6982\n",
      "Epoch 13/40\n",
      "405/405 [==============================] - 459s 1s/step - loss: 0.9164 - accuracy: 0.7062 - recall: 0.6123 - val_loss: 0.5882 - val_accuracy: 0.8164 - val_recall: 0.7204\n",
      "Epoch 14/40\n",
      "405/405 [==============================] - 453s 1s/step - loss: 0.8409 - accuracy: 0.7269 - recall: 0.6410 - val_loss: 0.5483 - val_accuracy: 0.8261 - val_recall: 0.7420\n",
      "Epoch 15/40\n",
      "405/405 [==============================] - 448s 1s/step - loss: 0.7900 - accuracy: 0.7421 - recall: 0.6609 - val_loss: 0.5088 - val_accuracy: 0.8331 - val_recall: 0.7552\n",
      "Epoch 16/40\n",
      "405/405 [==============================] - 441s 1s/step - loss: 0.7313 - accuracy: 0.7617 - recall: 0.6868 - val_loss: 0.4720 - val_accuracy: 0.8442 - val_recall: 0.7677\n",
      "Epoch 17/40\n",
      "405/405 [==============================] - 443s 1s/step - loss: 0.6959 - accuracy: 0.7761 - recall: 0.7022 - val_loss: 0.4497 - val_accuracy: 0.8519 - val_recall: 0.7823\n",
      "Epoch 18/40\n",
      "405/405 [==============================] - 444s 1s/step - loss: 0.6495 - accuracy: 0.7902 - recall: 0.7199 - val_loss: 0.4284 - val_accuracy: 0.8623 - val_recall: 0.8004\n",
      "Epoch 19/40\n",
      "405/405 [==============================] - 447s 1s/step - loss: 0.6015 - accuracy: 0.8006 - recall: 0.7381 - val_loss: 0.4043 - val_accuracy: 0.8707 - val_recall: 0.8102\n",
      "Epoch 20/40\n",
      "405/405 [==============================] - 449s 1s/step - loss: 0.5740 - accuracy: 0.8121 - recall: 0.7524 - val_loss: 0.3806 - val_accuracy: 0.8797 - val_recall: 0.8220\n",
      "Epoch 21/40\n",
      "405/405 [==============================] - 451s 1s/step - loss: 0.5350 - accuracy: 0.8209 - recall: 0.7663 - val_loss: 0.3704 - val_accuracy: 0.8804 - val_recall: 0.8352\n",
      "Epoch 22/40\n",
      "405/405 [==============================] - 454s 1s/step - loss: 0.5133 - accuracy: 0.8322 - recall: 0.7841 - val_loss: 0.3505 - val_accuracy: 0.8839 - val_recall: 0.8324\n",
      "Epoch 23/40\n",
      "405/405 [==============================] - 449s 1s/step - loss: 0.4867 - accuracy: 0.8361 - recall: 0.7892 - val_loss: 0.3434 - val_accuracy: 0.8853 - val_recall: 0.8414\n",
      "Epoch 24/40\n",
      "405/405 [==============================] - 455s 1s/step - loss: 0.4508 - accuracy: 0.8506 - recall: 0.8047 - val_loss: 0.3178 - val_accuracy: 0.8936 - val_recall: 0.8498\n",
      "Epoch 25/40\n",
      "405/405 [==============================] - 454s 1s/step - loss: 0.4286 - accuracy: 0.8557 - recall: 0.8139 - val_loss: 0.3106 - val_accuracy: 0.8964 - val_recall: 0.8588\n",
      "Epoch 26/40\n",
      "405/405 [==============================] - 453s 1s/step - loss: 0.4165 - accuracy: 0.8620 - recall: 0.8210 - val_loss: 0.3002 - val_accuracy: 0.9033 - val_recall: 0.8658\n",
      "Epoch 27/40\n",
      "405/405 [==============================] - 454s 1s/step - loss: 0.3934 - accuracy: 0.8682 - recall: 0.8316 - val_loss: 0.2871 - val_accuracy: 0.9054 - val_recall: 0.8748\n",
      "Epoch 28/40\n",
      "405/405 [==============================] - 456s 1s/step - loss: 0.3707 - accuracy: 0.8742 - recall: 0.8404 - val_loss: 0.2744 - val_accuracy: 0.9054 - val_recall: 0.8762\n",
      "Epoch 29/40\n",
      "405/405 [==============================] - 445s 1s/step - loss: 0.3471 - accuracy: 0.8824 - recall: 0.8502 - val_loss: 0.2608 - val_accuracy: 0.9117 - val_recall: 0.8804\n",
      "Epoch 30/40\n",
      "405/405 [==============================] - 443s 1s/step - loss: 0.3355 - accuracy: 0.8877 - recall: 0.8555 - val_loss: 0.2577 - val_accuracy: 0.9061 - val_recall: 0.8860\n",
      "Epoch 31/40\n",
      "405/405 [==============================] - 457s 1s/step - loss: 0.3219 - accuracy: 0.8911 - recall: 0.8606 - val_loss: 0.2509 - val_accuracy: 0.9103 - val_recall: 0.8860\n",
      "Epoch 32/40\n",
      "405/405 [==============================] - 461s 1s/step - loss: 0.3058 - accuracy: 0.8972 - recall: 0.8668 - val_loss: 0.2412 - val_accuracy: 0.9159 - val_recall: 0.8922\n",
      "Epoch 33/40\n",
      "405/405 [==============================] - 461s 1s/step - loss: 0.2914 - accuracy: 0.9028 - recall: 0.8753 - val_loss: 0.2393 - val_accuracy: 0.9138 - val_recall: 0.8915\n",
      "Epoch 34/40\n",
      "405/405 [==============================] - 457s 1s/step - loss: 0.2667 - accuracy: 0.9118 - recall: 0.8850 - val_loss: 0.2301 - val_accuracy: 0.9193 - val_recall: 0.8964\n",
      "Epoch 35/40\n",
      "405/405 [==============================] - 443s 1s/step - loss: 0.2586 - accuracy: 0.9110 - recall: 0.8887 - val_loss: 0.2239 - val_accuracy: 0.9166 - val_recall: 0.8929\n",
      "Epoch 36/40\n",
      "405/405 [==============================] - 431s 1s/step - loss: 0.2446 - accuracy: 0.9191 - recall: 0.8964 - val_loss: 0.2125 - val_accuracy: 0.9179 - val_recall: 0.9013\n",
      "Epoch 37/40\n",
      "405/405 [==============================] - 431s 1s/step - loss: 0.2380 - accuracy: 0.9179 - recall: 0.8960 - val_loss: 0.2124 - val_accuracy: 0.9242 - val_recall: 0.9054\n",
      "Epoch 38/40\n",
      "405/405 [==============================] - 433s 1s/step - loss: 0.2274 - accuracy: 0.9235 - recall: 0.9026 - val_loss: 0.2059 - val_accuracy: 0.9277 - val_recall: 0.9082\n",
      "Epoch 39/40\n",
      "405/405 [==============================] - 436s 1s/step - loss: 0.2149 - accuracy: 0.9266 - recall: 0.9073 - val_loss: 0.1971 - val_accuracy: 0.9256 - val_recall: 0.9103\n",
      "Epoch 40/40\n",
      "405/405 [==============================] - 435s 1s/step - loss: 0.2068 - accuracy: 0.9312 - recall: 0.9125 - val_loss: 0.1933 - val_accuracy: 0.9318 - val_recall: 0.9138\n"
     ]
    }
   ],
   "source": [
    "history = model.fit(train_data,epochs=40,validation_data=val_data)"
   ]
  },
  {
   "cell_type": "code",
   "execution_count": null,
   "metadata": {},
   "outputs": [],
   "source": [
    "##############################"
   ]
  },
  {
   "cell_type": "code",
   "execution_count": 24,
   "metadata": {},
   "outputs": [
    {
     "name": "stdout",
     "output_type": "stream",
     "text": [
      "Model: \"sequential\"\n",
      "_________________________________________________________________\n",
      " Layer (type)                Output Shape              Param #   \n",
      "=================================================================\n",
      " conv2d (Conv2D)             (None, 55, 55, 96)        34944     \n",
      "                                                                 \n",
      " leaky_re_lu (LeakyReLU)     (None, 55, 55, 96)        0         \n",
      "                                                                 \n",
      " batch_normalization (BatchN  (None, 55, 55, 96)       384       \n",
      " ormalization)                                                   \n",
      "                                                                 \n",
      " max_pooling2d (MaxPooling2D  (None, 27, 27, 96)       0         \n",
      " )                                                               \n",
      "                                                                 \n",
      " conv2d_1 (Conv2D)           (None, 27, 27, 256)       614656    \n",
      "                                                                 \n",
      " leaky_re_lu_1 (LeakyReLU)   (None, 27, 27, 256)       0         \n",
      "                                                                 \n",
      " batch_normalization_1 (Batc  (None, 27, 27, 256)      1024      \n",
      " hNormalization)                                                 \n",
      "                                                                 \n",
      " max_pooling2d_1 (MaxPooling  (None, 13, 13, 256)      0         \n",
      " 2D)                                                             \n",
      "                                                                 \n",
      " conv2d_2 (Conv2D)           (None, 13, 13, 384)       885120    \n",
      "                                                                 \n",
      " leaky_re_lu_2 (LeakyReLU)   (None, 13, 13, 384)       0         \n",
      "                                                                 \n",
      " batch_normalization_2 (Batc  (None, 13, 13, 384)      1536      \n",
      " hNormalization)                                                 \n",
      "                                                                 \n",
      " conv2d_3 (Conv2D)           (None, 13, 13, 384)       1327488   \n",
      "                                                                 \n",
      " leaky_re_lu_3 (LeakyReLU)   (None, 13, 13, 384)       0         \n",
      "                                                                 \n",
      " batch_normalization_3 (Batc  (None, 13, 13, 384)      1536      \n",
      " hNormalization)                                                 \n",
      "                                                                 \n",
      " conv2d_4 (Conv2D)           (None, 13, 13, 256)       884992    \n",
      "                                                                 \n",
      " leaky_re_lu_4 (LeakyReLU)   (None, 13, 13, 256)       0         \n",
      "                                                                 \n",
      " batch_normalization_4 (Batc  (None, 13, 13, 256)      1024      \n",
      " hNormalization)                                                 \n",
      "                                                                 \n",
      " max_pooling2d_2 (MaxPooling  (None, 6, 6, 256)        0         \n",
      " 2D)                                                             \n",
      "                                                                 \n",
      " flatten (Flatten)           (None, 9216)              0         \n",
      "                                                                 \n",
      " dense (Dense)               (None, 4096)              37752832  \n",
      "                                                                 \n",
      " leaky_re_lu_5 (LeakyReLU)   (None, 4096)              0         \n",
      "                                                                 \n",
      " dropout (Dropout)           (None, 4096)              0         \n",
      "                                                                 \n",
      " dense_1 (Dense)             (None, 4096)              16781312  \n",
      "                                                                 \n",
      " leaky_re_lu_6 (LeakyReLU)   (None, 4096)              0         \n",
      "                                                                 \n",
      " dropout_1 (Dropout)         (None, 4096)              0         \n",
      "                                                                 \n",
      " dense_2 (Dense)             (None, 15)                61455     \n",
      "                                                                 \n",
      "=================================================================\n",
      "Total params: 58,348,303\n",
      "Trainable params: 58,345,551\n",
      "Non-trainable params: 2,752\n",
      "_________________________________________________________________\n"
     ]
    },
    {
     "name": "stderr",
     "output_type": "stream",
     "text": [
      "/Users/xiaoyulin/opt/anaconda3/lib/python3.8/site-packages/keras/optimizer_v2/adam.py:105: UserWarning: The `lr` argument is deprecated, use `learning_rate` instead.\n",
      "  super(Adam, self).__init__(name, **kwargs)\n"
     ]
    }
   ],
   "source": [
    "# Change the activation function to softmax\n",
    "model_2 = keras.models.Sequential([\n",
    "    keras.layers.Conv2D(filters=96, kernel_size=(11,11), strides=(4,4),  input_shape=(227,227,3)),\n",
    "    keras.layers.LeakyReLU(alpha=0.3),\n",
    "    keras.layers.BatchNormalization(),\n",
    "    keras.layers.MaxPool2D(pool_size=(3,3), strides=(2,2)), \n",
    "    keras.layers.Conv2D(filters=256, kernel_size=(5,5), strides=(1,1), padding=\"same\"),\n",
    "    keras.layers.LeakyReLU(alpha=0.3),\n",
    "    keras.layers.BatchNormalization(),\n",
    "    keras.layers.MaxPool2D(pool_size=(3,3), strides=(2,2)),\n",
    "    keras.layers.Conv2D(filters=384, kernel_size=(3,3), strides=(1,1), padding=\"same\"),\n",
    "    keras.layers.LeakyReLU(alpha=0.3),\n",
    "    keras.layers.BatchNormalization(),\n",
    "    keras.layers.Conv2D(filters=384, kernel_size=(3,3), strides=(1,1), padding=\"same\"),\n",
    "    keras.layers.LeakyReLU(alpha=0.3),\n",
    "    keras.layers.BatchNormalization(),\n",
    "    keras.layers.Conv2D(filters=256, kernel_size=(3,3), strides=(1,1), padding=\"same\"),\n",
    "    keras.layers.LeakyReLU(alpha=0.3),\n",
    "    keras.layers.BatchNormalization(),\n",
    "    keras.layers.MaxPool2D(pool_size=(3,3), strides=(2,2)),\n",
    "    keras.layers.Flatten(),\n",
    "    keras.layers.Dense(4096),\n",
    "    keras.layers.LeakyReLU(alpha=0.3),\n",
    "    keras.layers.Dropout(0.5),\n",
    "    keras.layers.Dense(4096),\n",
    "    keras.layers.LeakyReLU(alpha=0.3),\n",
    "    keras.layers.Dropout(0.5),\n",
    "    keras.layers.Dense(15, activation='softmax')\n",
    "])\n",
    "model_2.compile(\n",
    "    optimizer=tf.optimizers.Adam(lr=0.000001),\n",
    "    loss='categorical_crossentropy',\n",
    "    metrics=['accuracy','Recall']\n",
    ")\n",
    "\n",
    "model_2.summary()"
   ]
  },
  {
   "cell_type": "code",
   "execution_count": 25,
   "metadata": {},
   "outputs": [
    {
     "name": "stdout",
     "output_type": "stream",
     "text": [
      "Epoch 1/40\n",
      "405/405 [==============================] - 487s 1s/step - loss: 4.0362 - accuracy: 0.1531 - recall: 0.1034 - val_loss: 1.6930 - val_accuracy: 0.4597 - val_recall: 0.1864\n",
      "Epoch 2/40\n",
      "405/405 [==============================] - 476s 1s/step - loss: 2.6980 - accuracy: 0.2992 - recall: 0.2122 - val_loss: 1.2438 - val_accuracy: 0.6259 - val_recall: 0.3950\n",
      "Epoch 3/40\n",
      "405/405 [==============================] - 526s 1s/step - loss: 2.0248 - accuracy: 0.4213 - recall: 0.3250 - val_loss: 0.9907 - val_accuracy: 0.7128 - val_recall: 0.5278\n",
      "Epoch 4/40\n",
      "405/405 [==============================] - 532s 1s/step - loss: 1.6237 - accuracy: 0.5163 - recall: 0.4195 - val_loss: 0.8328 - val_accuracy: 0.7524 - val_recall: 0.6092\n",
      "Epoch 5/40\n",
      "405/405 [==============================] - 494s 1s/step - loss: 1.3504 - accuracy: 0.5794 - recall: 0.4871 - val_loss: 0.7169 - val_accuracy: 0.7851 - val_recall: 0.6739\n",
      "Epoch 6/40\n",
      "405/405 [==============================] - 481s 1s/step - loss: 1.1783 - accuracy: 0.6320 - recall: 0.5461 - val_loss: 0.6297 - val_accuracy: 0.8206 - val_recall: 0.7177\n",
      "Epoch 7/40\n",
      "405/405 [==============================] - 480s 1s/step - loss: 1.0130 - accuracy: 0.6816 - recall: 0.6030 - val_loss: 0.5590 - val_accuracy: 0.8338 - val_recall: 0.7476\n",
      "Epoch 8/40\n",
      "405/405 [==============================] - 480s 1s/step - loss: 0.8911 - accuracy: 0.7208 - recall: 0.6480 - val_loss: 0.5080 - val_accuracy: 0.8435 - val_recall: 0.7726\n",
      "Epoch 9/40\n",
      "405/405 [==============================] - 486s 1s/step - loss: 0.8018 - accuracy: 0.7437 - recall: 0.6732 - val_loss: 0.4611 - val_accuracy: 0.8554 - val_recall: 0.7990\n",
      "Epoch 10/40\n",
      "405/405 [==============================] - 485s 1s/step - loss: 0.7097 - accuracy: 0.7677 - recall: 0.7071 - val_loss: 0.4195 - val_accuracy: 0.8707 - val_recall: 0.8171\n",
      "Epoch 11/40\n",
      "405/405 [==============================] - 489s 1s/step - loss: 0.6541 - accuracy: 0.7896 - recall: 0.7327 - val_loss: 0.3897 - val_accuracy: 0.8769 - val_recall: 0.8275\n",
      "Epoch 12/40\n",
      "405/405 [==============================] - 488s 1s/step - loss: 0.5787 - accuracy: 0.8108 - recall: 0.7640 - val_loss: 0.3579 - val_accuracy: 0.8846 - val_recall: 0.8408\n",
      "Epoch 13/40\n",
      "405/405 [==============================] - 485s 1s/step - loss: 0.5271 - accuracy: 0.8271 - recall: 0.7803 - val_loss: 0.3337 - val_accuracy: 0.8992 - val_recall: 0.8574\n",
      "Epoch 14/40\n",
      "405/405 [==============================] - 492s 1s/step - loss: 0.4724 - accuracy: 0.8431 - recall: 0.8045 - val_loss: 0.3010 - val_accuracy: 0.9089 - val_recall: 0.8776\n",
      "Epoch 15/40\n",
      "405/405 [==============================] - 482s 1s/step - loss: 0.4414 - accuracy: 0.8555 - recall: 0.8189 - val_loss: 0.2839 - val_accuracy: 0.9068 - val_recall: 0.8804\n",
      "Epoch 16/40\n",
      "405/405 [==============================] - 494s 1s/step - loss: 0.3971 - accuracy: 0.8698 - recall: 0.8350 - val_loss: 0.2698 - val_accuracy: 0.9138 - val_recall: 0.8853\n",
      "Epoch 17/40\n",
      "405/405 [==============================] - 491s 1s/step - loss: 0.3859 - accuracy: 0.8741 - recall: 0.8424 - val_loss: 0.2541 - val_accuracy: 0.9193 - val_recall: 0.8915\n",
      "Epoch 18/40\n",
      "405/405 [==============================] - 491s 1s/step - loss: 0.3308 - accuracy: 0.8904 - recall: 0.8608 - val_loss: 0.2401 - val_accuracy: 0.9228 - val_recall: 0.8985\n",
      "Epoch 19/40\n",
      "405/405 [==============================] - 488s 1s/step - loss: 0.3271 - accuracy: 0.8907 - recall: 0.8661 - val_loss: 0.2209 - val_accuracy: 0.9298 - val_recall: 0.9075\n",
      "Epoch 20/40\n",
      "405/405 [==============================] - 491s 1s/step - loss: 0.2989 - accuracy: 0.8982 - recall: 0.8750 - val_loss: 0.2169 - val_accuracy: 0.9312 - val_recall: 0.9026\n",
      "Epoch 21/40\n",
      "405/405 [==============================] - 493s 1s/step - loss: 0.2791 - accuracy: 0.9078 - recall: 0.8853 - val_loss: 0.2100 - val_accuracy: 0.9318 - val_recall: 0.9096\n",
      "Epoch 22/40\n",
      "405/405 [==============================] - 489s 1s/step - loss: 0.2708 - accuracy: 0.9117 - recall: 0.8887 - val_loss: 0.1973 - val_accuracy: 0.9332 - val_recall: 0.9138\n",
      "Epoch 23/40\n",
      "405/405 [==============================] - 493s 1s/step - loss: 0.2433 - accuracy: 0.9204 - recall: 0.9027 - val_loss: 0.1925 - val_accuracy: 0.9381 - val_recall: 0.9152\n",
      "Epoch 24/40\n",
      "405/405 [==============================] - 491s 1s/step - loss: 0.2234 - accuracy: 0.9269 - recall: 0.9077 - val_loss: 0.1827 - val_accuracy: 0.9402 - val_recall: 0.9186\n",
      "Epoch 25/40\n",
      "405/405 [==============================] - 489s 1s/step - loss: 0.2133 - accuracy: 0.9286 - recall: 0.9128 - val_loss: 0.1857 - val_accuracy: 0.9395 - val_recall: 0.9200\n",
      "Epoch 26/40\n",
      "405/405 [==============================] - 484s 1s/step - loss: 0.1973 - accuracy: 0.9332 - recall: 0.9174 - val_loss: 0.1785 - val_accuracy: 0.9395 - val_recall: 0.9200\n",
      "Epoch 27/40\n",
      "405/405 [==============================] - 491s 1s/step - loss: 0.1876 - accuracy: 0.9380 - recall: 0.9244 - val_loss: 0.1684 - val_accuracy: 0.9374 - val_recall: 0.9256\n",
      "Epoch 28/40\n",
      "405/405 [==============================] - 484s 1s/step - loss: 0.1719 - accuracy: 0.9414 - recall: 0.9287 - val_loss: 0.1660 - val_accuracy: 0.9395 - val_recall: 0.9228\n",
      "Epoch 29/40\n",
      "405/405 [==============================] - 487s 1s/step - loss: 0.1644 - accuracy: 0.9469 - recall: 0.9352 - val_loss: 0.1539 - val_accuracy: 0.9465 - val_recall: 0.9346\n",
      "Epoch 30/40\n",
      "405/405 [==============================] - 486s 1s/step - loss: 0.1495 - accuracy: 0.9489 - recall: 0.9377 - val_loss: 0.1473 - val_accuracy: 0.9492 - val_recall: 0.9381\n",
      "Epoch 31/40\n",
      "405/405 [==============================] - 485s 1s/step - loss: 0.1350 - accuracy: 0.9553 - recall: 0.9462 - val_loss: 0.1505 - val_accuracy: 0.9437 - val_recall: 0.9339\n",
      "Epoch 32/40\n",
      "405/405 [==============================] - 489s 1s/step - loss: 0.1359 - accuracy: 0.9562 - recall: 0.9431 - val_loss: 0.1414 - val_accuracy: 0.9527 - val_recall: 0.9374\n",
      "Epoch 33/40\n",
      "405/405 [==============================] - 490s 1s/step - loss: 0.1267 - accuracy: 0.9590 - recall: 0.9491 - val_loss: 0.1380 - val_accuracy: 0.9513 - val_recall: 0.9423\n",
      "Epoch 34/40\n",
      "405/405 [==============================] - 494s 1s/step - loss: 0.1224 - accuracy: 0.9599 - recall: 0.9516 - val_loss: 0.1398 - val_accuracy: 0.9499 - val_recall: 0.9395\n",
      "Epoch 35/40\n",
      "405/405 [==============================] - 495s 1s/step - loss: 0.1142 - accuracy: 0.9623 - recall: 0.9536 - val_loss: 0.1281 - val_accuracy: 0.9562 - val_recall: 0.9478\n",
      "Epoch 36/40\n",
      "405/405 [==============================] - 498s 1s/step - loss: 0.1040 - accuracy: 0.9674 - recall: 0.9598 - val_loss: 0.1269 - val_accuracy: 0.9576 - val_recall: 0.9499\n",
      "Epoch 37/40\n",
      "405/405 [==============================] - 480s 1s/step - loss: 0.0993 - accuracy: 0.9682 - recall: 0.9624 - val_loss: 0.1272 - val_accuracy: 0.9520 - val_recall: 0.9471\n",
      "Epoch 38/40\n",
      "405/405 [==============================] - 490s 1s/step - loss: 0.0966 - accuracy: 0.9678 - recall: 0.9611 - val_loss: 0.1240 - val_accuracy: 0.9618 - val_recall: 0.9534\n",
      "Epoch 39/40\n",
      "405/405 [==============================] - 491s 1s/step - loss: 0.0917 - accuracy: 0.9708 - recall: 0.9663 - val_loss: 0.1231 - val_accuracy: 0.9583 - val_recall: 0.9513\n",
      "Epoch 40/40\n",
      "405/405 [==============================] - 495s 1s/step - loss: 0.0875 - accuracy: 0.9715 - recall: 0.9654 - val_loss: 0.1268 - val_accuracy: 0.9520 - val_recall: 0.9409\n"
     ]
    }
   ],
   "source": [
    "history_2 = model_2.fit(train_data,epochs=40,validation_data=val_data)"
   ]
  },
  {
   "cell_type": "code",
   "execution_count": null,
   "metadata": {},
   "outputs": [],
   "source": [
    "########################################"
   ]
  },
  {
   "cell_type": "code",
   "execution_count": 26,
   "metadata": {},
   "outputs": [
    {
     "name": "stdout",
     "output_type": "stream",
     "text": [
      "Model: \"sequential_1\"\n",
      "_________________________________________________________________\n",
      " Layer (type)                Output Shape              Param #   \n",
      "=================================================================\n",
      " conv2d_5 (Conv2D)           (None, 55, 55, 96)        34944     \n",
      "                                                                 \n",
      " batch_normalization_5 (Batc  (None, 55, 55, 96)       384       \n",
      " hNormalization)                                                 \n",
      "                                                                 \n",
      " max_pooling2d_3 (MaxPooling  (None, 27, 27, 96)       0         \n",
      " 2D)                                                             \n",
      "                                                                 \n",
      " conv2d_6 (Conv2D)           (None, 27, 27, 256)       614656    \n",
      "                                                                 \n",
      " batch_normalization_6 (Batc  (None, 27, 27, 256)      1024      \n",
      " hNormalization)                                                 \n",
      "                                                                 \n",
      " max_pooling2d_4 (MaxPooling  (None, 13, 13, 256)      0         \n",
      " 2D)                                                             \n",
      "                                                                 \n",
      " conv2d_7 (Conv2D)           (None, 13, 13, 384)       885120    \n",
      "                                                                 \n",
      " batch_normalization_7 (Batc  (None, 13, 13, 384)      1536      \n",
      " hNormalization)                                                 \n",
      "                                                                 \n",
      " conv2d_8 (Conv2D)           (None, 13, 13, 384)       1327488   \n",
      "                                                                 \n",
      " batch_normalization_8 (Batc  (None, 13, 13, 384)      1536      \n",
      " hNormalization)                                                 \n",
      "                                                                 \n",
      " conv2d_9 (Conv2D)           (None, 13, 13, 256)       884992    \n",
      "                                                                 \n",
      " batch_normalization_9 (Batc  (None, 13, 13, 256)      1024      \n",
      " hNormalization)                                                 \n",
      "                                                                 \n",
      " max_pooling2d_5 (MaxPooling  (None, 6, 6, 256)        0         \n",
      " 2D)                                                             \n",
      "                                                                 \n",
      " flatten_1 (Flatten)         (None, 9216)              0         \n",
      "                                                                 \n",
      " dense_3 (Dense)             (None, 4096)              37752832  \n",
      "                                                                 \n",
      " dropout_2 (Dropout)         (None, 4096)              0         \n",
      "                                                                 \n",
      " dense_4 (Dense)             (None, 4096)              16781312  \n",
      "                                                                 \n",
      " dropout_3 (Dropout)         (None, 4096)              0         \n",
      "                                                                 \n",
      " dense_5 (Dense)             (None, 15)                61455     \n",
      "                                                                 \n",
      "=================================================================\n",
      "Total params: 58,348,303\n",
      "Trainable params: 58,345,551\n",
      "Non-trainable params: 2,752\n",
      "_________________________________________________________________\n"
     ]
    },
    {
     "name": "stderr",
     "output_type": "stream",
     "text": [
      "/Users/xiaoyulin/opt/anaconda3/lib/python3.8/site-packages/keras/optimizer_v2/gradient_descent.py:102: UserWarning: The `lr` argument is deprecated, use `learning_rate` instead.\n",
      "  super(SGD, self).__init__(name, **kwargs)\n"
     ]
    }
   ],
   "source": [
    "# Change optimizer to SGD\n",
    "model_3 = keras.models.Sequential([\n",
    "    keras.layers.Conv2D(filters=96, kernel_size=(11,11), strides=(4,4), activation='relu', input_shape=(227,227,3)),\n",
    "    keras.layers.BatchNormalization(),\n",
    "    keras.layers.MaxPool2D(pool_size=(3,3), strides=(2,2)), \n",
    "    keras.layers.Conv2D(filters=256, kernel_size=(5,5), strides=(1,1), activation='relu', padding=\"same\"),\n",
    "    keras.layers.BatchNormalization(),\n",
    "    keras.layers.MaxPool2D(pool_size=(3,3), strides=(2,2)),\n",
    "    keras.layers.Conv2D(filters=384, kernel_size=(3,3), strides=(1,1), activation='relu', padding=\"same\"),\n",
    "    keras.layers.BatchNormalization(),\n",
    "    keras.layers.Conv2D(filters=384, kernel_size=(3,3), strides=(1,1), activation='relu', padding=\"same\"),\n",
    "    keras.layers.BatchNormalization(),\n",
    "    keras.layers.Conv2D(filters=256, kernel_size=(3,3), strides=(1,1), activation='relu', padding=\"same\"),\n",
    "    keras.layers.BatchNormalization(),\n",
    "    keras.layers.MaxPool2D(pool_size=(3,3), strides=(2,2)),\n",
    "    keras.layers.Flatten(),\n",
    "    keras.layers.Dense(4096, activation='relu'),\n",
    "    keras.layers.Dropout(0.5),\n",
    "    keras.layers.Dense(4096, activation='relu'),\n",
    "    keras.layers.Dropout(0.5),\n",
    "    keras.layers.Dense(15, activation='softmax')\n",
    "])\n",
    "model_3.compile(\n",
    "    optimizer=tf.optimizers.SGD(lr=0.000001),\n",
    "    loss='categorical_crossentropy',\n",
    "    metrics=['accuracy','Recall']\n",
    ")\n",
    "\n",
    "model_3.summary()"
   ]
  },
  {
   "cell_type": "code",
   "execution_count": 27,
   "metadata": {},
   "outputs": [
    {
     "name": "stdout",
     "output_type": "stream",
     "text": [
      "Epoch 1/40\n",
      "405/405 [==============================] - 429s 1s/step - loss: 5.6780 - accuracy: 0.0811 - recall: 0.0429 - val_loss: 3.2300 - val_accuracy: 0.0765 - val_recall: 6.9541e-04\n",
      "Epoch 2/40\n",
      "405/405 [==============================] - 430s 1s/step - loss: 5.4971 - accuracy: 0.0759 - recall: 0.0386 - val_loss: 3.2023 - val_accuracy: 0.0772 - val_recall: 0.0014\n",
      "Epoch 3/40\n",
      "405/405 [==============================] - 427s 1s/step - loss: 5.3412 - accuracy: 0.0785 - recall: 0.0414 - val_loss: 3.0670 - val_accuracy: 0.0897 - val_recall: 0.0021\n",
      "Epoch 4/40\n",
      "405/405 [==============================] - 429s 1s/step - loss: 5.1784 - accuracy: 0.0817 - recall: 0.0419 - val_loss: 2.9836 - val_accuracy: 0.1057 - val_recall: 0.0021\n",
      "Epoch 5/40\n",
      "405/405 [==============================] - 440s 1s/step - loss: 5.1053 - accuracy: 0.0811 - recall: 0.0420 - val_loss: 2.9388 - val_accuracy: 0.1085 - val_recall: 0.0035\n",
      "Epoch 6/40\n",
      "405/405 [==============================] - 438s 1s/step - loss: 5.0576 - accuracy: 0.0870 - recall: 0.0447 - val_loss: 2.8615 - val_accuracy: 0.1252 - val_recall: 0.0049\n",
      "Epoch 7/40\n",
      "405/405 [==============================] - 435s 1s/step - loss: 4.9724 - accuracy: 0.0881 - recall: 0.0454 - val_loss: 2.8358 - val_accuracy: 0.1280 - val_recall: 0.0076\n",
      "Epoch 8/40\n",
      "405/405 [==============================] - 437s 1s/step - loss: 4.9181 - accuracy: 0.0868 - recall: 0.0449 - val_loss: 2.8092 - val_accuracy: 0.1426 - val_recall: 0.0090\n",
      "Epoch 9/40\n",
      "405/405 [==============================] - 436s 1s/step - loss: 4.8840 - accuracy: 0.0852 - recall: 0.0434 - val_loss: 2.7697 - val_accuracy: 0.1565 - val_recall: 0.0111\n",
      "Epoch 10/40\n",
      "405/405 [==============================] - 435s 1s/step - loss: 4.8032 - accuracy: 0.0961 - recall: 0.0485 - val_loss: 2.7425 - val_accuracy: 0.1551 - val_recall: 0.0132\n",
      "Epoch 11/40\n",
      "405/405 [==============================] - 440s 1s/step - loss: 4.8132 - accuracy: 0.0919 - recall: 0.0478 - val_loss: 2.7166 - val_accuracy: 0.1613 - val_recall: 0.0118\n",
      "Epoch 12/40\n",
      "405/405 [==============================] - 436s 1s/step - loss: 4.7249 - accuracy: 0.0946 - recall: 0.0484 - val_loss: 2.6978 - val_accuracy: 0.1697 - val_recall: 0.0153\n",
      "Epoch 13/40\n",
      "405/405 [==============================] - 438s 1s/step - loss: 4.6930 - accuracy: 0.0960 - recall: 0.0500 - val_loss: 2.6487 - val_accuracy: 0.1871 - val_recall: 0.0146\n",
      "Epoch 14/40\n",
      "405/405 [==============================] - 433s 1s/step - loss: 4.6660 - accuracy: 0.0963 - recall: 0.0511 - val_loss: 2.6378 - val_accuracy: 0.1926 - val_recall: 0.0188\n",
      "Epoch 15/40\n",
      "405/405 [==============================] - 432s 1s/step - loss: 4.6366 - accuracy: 0.0994 - recall: 0.0525 - val_loss: 2.6000 - val_accuracy: 0.1878 - val_recall: 0.0174\n",
      "Epoch 16/40\n",
      "405/405 [==============================] - 433s 1s/step - loss: 4.5541 - accuracy: 0.1060 - recall: 0.0518 - val_loss: 2.5944 - val_accuracy: 0.1947 - val_recall: 0.0223\n",
      "Epoch 17/40\n",
      "405/405 [==============================] - 436s 1s/step - loss: 4.5154 - accuracy: 0.1047 - recall: 0.0563 - val_loss: 2.5578 - val_accuracy: 0.2184 - val_recall: 0.0229\n",
      "Epoch 18/40\n",
      "405/405 [==============================] - 443s 1s/step - loss: 4.4994 - accuracy: 0.1094 - recall: 0.0569 - val_loss: 2.5455 - val_accuracy: 0.2191 - val_recall: 0.0223\n",
      "Epoch 19/40\n",
      "405/405 [==============================] - 435s 1s/step - loss: 4.4832 - accuracy: 0.1145 - recall: 0.0607 - val_loss: 2.5216 - val_accuracy: 0.2184 - val_recall: 0.0278\n",
      "Epoch 20/40\n",
      "405/405 [==============================] - 435s 1s/step - loss: 4.5067 - accuracy: 0.1095 - recall: 0.0580 - val_loss: 2.5002 - val_accuracy: 0.2385 - val_recall: 0.0271\n",
      "Epoch 21/40\n",
      "405/405 [==============================] - 434s 1s/step - loss: 4.4145 - accuracy: 0.1163 - recall: 0.0594 - val_loss: 2.4722 - val_accuracy: 0.2483 - val_recall: 0.0292\n",
      "Epoch 22/40\n",
      "405/405 [==============================] - 436s 1s/step - loss: 4.3880 - accuracy: 0.1113 - recall: 0.0596 - val_loss: 2.4508 - val_accuracy: 0.2608 - val_recall: 0.0292\n",
      "Epoch 23/40\n",
      "405/405 [==============================] - 442s 1s/step - loss: 4.3287 - accuracy: 0.1186 - recall: 0.0621 - val_loss: 2.4418 - val_accuracy: 0.2573 - val_recall: 0.0278\n",
      "Epoch 24/40\n",
      "405/405 [==============================] - 438s 1s/step - loss: 4.3599 - accuracy: 0.1137 - recall: 0.0600 - val_loss: 2.4256 - val_accuracy: 0.2601 - val_recall: 0.0341\n",
      "Epoch 25/40\n",
      "405/405 [==============================] - 433s 1s/step - loss: 4.2848 - accuracy: 0.1225 - recall: 0.0635 - val_loss: 2.4045 - val_accuracy: 0.2698 - val_recall: 0.0417\n",
      "Epoch 26/40\n",
      "405/405 [==============================] - 443s 1s/step - loss: 4.2968 - accuracy: 0.1214 - recall: 0.0643 - val_loss: 2.3888 - val_accuracy: 0.2837 - val_recall: 0.0396\n",
      "Epoch 27/40\n",
      "405/405 [==============================] - 434s 1s/step - loss: 4.2271 - accuracy: 0.1255 - recall: 0.0696 - val_loss: 2.3797 - val_accuracy: 0.2844 - val_recall: 0.0452\n",
      "Epoch 28/40\n",
      "405/405 [==============================] - 443s 1s/step - loss: 4.1877 - accuracy: 0.1304 - recall: 0.0720 - val_loss: 2.3659 - val_accuracy: 0.2942 - val_recall: 0.0494\n",
      "Epoch 29/40\n",
      "405/405 [==============================] - 442s 1s/step - loss: 4.1919 - accuracy: 0.1273 - recall: 0.0656 - val_loss: 2.3485 - val_accuracy: 0.3032 - val_recall: 0.0556\n",
      "Epoch 30/40\n",
      "405/405 [==============================] - 434s 1s/step - loss: 4.1747 - accuracy: 0.1290 - recall: 0.0712 - val_loss: 2.3382 - val_accuracy: 0.3025 - val_recall: 0.0563\n",
      "Epoch 31/40\n",
      "405/405 [==============================] - 431s 1s/step - loss: 4.1400 - accuracy: 0.1289 - recall: 0.0692 - val_loss: 2.3199 - val_accuracy: 0.3046 - val_recall: 0.0591\n",
      "Epoch 32/40\n",
      "405/405 [==============================] - 435s 1s/step - loss: 4.1140 - accuracy: 0.1314 - recall: 0.0715 - val_loss: 2.2996 - val_accuracy: 0.3039 - val_recall: 0.0598\n",
      "Epoch 33/40\n",
      "405/405 [==============================] - 431s 1s/step - loss: 4.1068 - accuracy: 0.1318 - recall: 0.0718 - val_loss: 2.2943 - val_accuracy: 0.3095 - val_recall: 0.0619\n",
      "Epoch 34/40\n",
      "405/405 [==============================] - 433s 1s/step - loss: 4.0834 - accuracy: 0.1365 - recall: 0.0741 - val_loss: 2.2843 - val_accuracy: 0.3115 - val_recall: 0.0640\n",
      "Epoch 35/40\n",
      "405/405 [==============================] - 433s 1s/step - loss: 4.0631 - accuracy: 0.1415 - recall: 0.0760 - val_loss: 2.2675 - val_accuracy: 0.3227 - val_recall: 0.0709\n",
      "Epoch 36/40\n",
      "405/405 [==============================] - 441s 1s/step - loss: 4.0028 - accuracy: 0.1436 - recall: 0.0791 - val_loss: 2.2432 - val_accuracy: 0.3171 - val_recall: 0.0695\n",
      "Epoch 37/40\n",
      "405/405 [==============================] - 438s 1s/step - loss: 3.9828 - accuracy: 0.1415 - recall: 0.0773 - val_loss: 2.2366 - val_accuracy: 0.3206 - val_recall: 0.0730\n",
      "Epoch 38/40\n",
      "405/405 [==============================] - 438s 1s/step - loss: 3.9341 - accuracy: 0.1490 - recall: 0.0812 - val_loss: 2.2256 - val_accuracy: 0.3234 - val_recall: 0.0751\n",
      "Epoch 39/40\n",
      "405/405 [==============================] - 443s 1s/step - loss: 3.9597 - accuracy: 0.1433 - recall: 0.0797 - val_loss: 2.2095 - val_accuracy: 0.3289 - val_recall: 0.0807\n",
      "Epoch 40/40\n",
      "405/405 [==============================] - 445s 1s/step - loss: 3.9272 - accuracy: 0.1508 - recall: 0.0816 - val_loss: 2.2030 - val_accuracy: 0.3296 - val_recall: 0.0834\n"
     ]
    }
   ],
   "source": [
    "history_3 = model_3.fit(train_data,epochs=40,validation_data=val_data)"
   ]
  },
  {
   "cell_type": "markdown",
   "metadata": {},
   "source": [
    "### Visualize the result"
   ]
  },
  {
   "cell_type": "code",
   "execution_count": 16,
   "metadata": {},
   "outputs": [
    {
     "data": {
      "image/png": "[encoded data removed]",
      "text/plain": [
       "<Figure size 432x288 with 1 Axes>"
      ]
     },
     "metadata": {
      "needs_background": "light"
     },
     "output_type": "display_data"
    }
   ],
   "source": [
    "import matplotlib.pyplot as plt\n",
    "#plotting the Accuracy of test and training sets\n",
    "plt.plot(history.history['accuracy'])\n",
    "plt.plot(history.history['val_accuracy'])\n",
    "plt.title('Model Accuracy')\n",
    "plt.ylabel('accuracy')\n",
    "plt.xlabel('epoch')\n",
    "plt.legend(['train', 'test'], loc='upper left')\n",
    "plt.show()"
   ]
  },
  {
   "cell_type": "code",
   "execution_count": 17,
   "metadata": {},
   "outputs": [
    {
     "data": {
      "image/png": "[encoded data removed]",
      "text/plain": [
       "<Figure size 432x288 with 1 Axes>"
      ]
     },
     "metadata": {
      "needs_background": "light"
     },
     "output_type": "display_data"
    }
   ],
   "source": [
    "#plotting the loss of test and training sets\n",
    "plt.plot(history.history['loss'])\n",
    "plt.plot(history.history['val_loss'])\n",
    "plt.title('Model Loss')\n",
    "plt.ylabel('loss')\n",
    "plt.xlabel('epoch')\n",
    "plt.legend(['train', 'test'], loc='upper left')\n",
    "plt.show()"
   ]
  },
  {
   "cell_type": "code",
   "execution_count": 18,
   "metadata": {},
   "outputs": [],
   "source": [
    "y_pred = model.predict(test_data)\n",
    "y_pred = np.argmax(y_pred,axis=1)"
   ]
  },
  {
   "cell_type": "code",
   "execution_count": 19,
   "metadata": {},
   "outputs": [
    {
     "name": "stdout",
     "output_type": "stream",
     "text": [
      "              precision    recall  f1-score   support\n",
      "\n",
      "           0       0.87      0.78      0.82       331\n",
      "           1       0.85      0.95      0.90       265\n",
      "           2       0.99      0.95      0.97       144\n",
      "           3       0.94      0.94      0.94       353\n",
      "           4       0.95      0.99      0.97       342\n",
      "           5       0.96      0.93      0.94       351\n",
      "           6       0.97      1.00      0.98       262\n",
      "           7       0.91      0.93      0.92       224\n",
      "           8       1.00      0.99      0.99       220\n",
      "           9       0.99      0.96      0.97       182\n",
      "          10       1.00      1.00      1.00       174\n",
      "          11       1.00      0.99      0.99       192\n",
      "          12       0.90      0.81      0.86       187\n",
      "          13       0.93      0.96      0.94       206\n",
      "          14       0.84      0.93      0.88       163\n",
      "\n",
      "    accuracy                           0.94      3596\n",
      "   macro avg       0.94      0.94      0.94      3596\n",
      "weighted avg       0.94      0.94      0.94      3596\n",
      "\n"
     ]
    }
   ],
   "source": [
    "from sklearn.metrics import classification_report, confusion_matrix\n",
    "\n",
    "# print the classification report\n",
    "print(classification_report(test_data.labels,y_pred))"
   ]
  },
  {
   "cell_type": "code",
   "execution_count": 21,
   "metadata": {},
   "outputs": [],
   "source": [
    "classes=[i for i in range(15)]\n",
    "con_mat_df = pd.DataFrame(confusion_matrix(test_data.labels,y_pred),\n",
    "                     index = classes, \n",
    "                     columns = classes)"
   ]
  },
  {
   "cell_type": "code",
   "execution_count": 22,
   "metadata": {},
   "outputs": [
    {
     "data": {
      "image/png": "[encoded data removed]",
      "text/plain": [
       "<Figure size 1080x576 with 2 Axes>"
      ]
     },
     "metadata": {
      "needs_background": "light"
     },
     "output_type": "display_data"
    }
   ],
   "source": [
    "import seaborn as sns\n",
    "figure = plt.figure(figsize=(15, 8))\n",
    "sns.heatmap(con_mat_df, annot=True,cmap=plt.cm.cool,fmt='d')\n",
    "plt.tight_layout()\n",
    "plt.ylabel('Actual')\n",
    "plt.xlabel('Predicted')\n",
    "plt.show()"
   ]
  },
  {
   "cell_type": "code",
   "execution_count": null,
   "metadata": {},
   "outputs": [],
   "source": []
  }
 ],
 "metadata": {
  "kernelspec": {
   "display_name": "Python 3 (ipykernel)",
   "language": "python",
   "name": "python3"
  },
  "language_info": {
   "codemirror_mode": {
    "name": "ipython",
    "version": 3
   },
   "file_extension": ".py",
   "mimetype": "text/x-python",
   "name": "python",
   "nbconvert_exporter": "python",
   "pygments_lexer": "ipython3",
   "version": "3.9.7"
  }
 },
 "nbformat": 4,
 "nbformat_minor": 4
}
